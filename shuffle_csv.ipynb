{
 "cells": [
  {
   "cell_type": "code",
   "execution_count": 1,
   "metadata": {
    "_cell_guid": "b1076dfc-b9ad-4769-8c92-a6c4dae69d19",
    "_uuid": "8f2839f25d086af736a60e9eeb907d3b93b6e0e5"
   },
   "outputs": [],
   "source": [
    "\"\"\"将原始的340个csv随机分成100份,每一份里面样本类别各异,方便后续模型读取\"\"\"\n",
    "%matplotlib inline\n",
    "from IPython.core.interactiveshell import InteractiveShell\n",
    "InteractiveShell.ast_node_interactivity = \"all\"\n",
    "import ast\n",
    "import os\n",
    "import datetime as dt\n",
    "from tqdm import tqdm\n",
    "import pandas as pd\n",
    "import numpy as np\n",
    "\n",
    "NCSVS = 100\n",
    "INPUT_PATH = '../input'"
   ]
  },
  {
   "cell_type": "code",
   "execution_count": 2,
   "metadata": {
    "_cell_guid": "79c7e3d0-c299-4dcb-8224-4455121ee9b0",
    "_uuid": "d629ff2d2480ee46fbb7e2d37f6b5fab8052498a"
   },
   "outputs": [],
   "source": [
    "def f2cat(filename: str) -> str:\n",
    "    \"\"\"从路径获得文件名，也即类别名，保证输入输出都是string\"\"\"\n",
    "    return filename.split('.')[0]\n",
    "\n",
    "class Simplified():\n",
    "    \"\"\"定义一个读取simpled数据集的类\"\"\"\n",
    "    def __init__(self, input_path=INPUT_PATH):\n",
    "        self.input_path = input_path\n",
    "\n",
    "    def list_all_categories(self):\n",
    "        \"\"\"返回排好序的类别名列表，排序的原因是为了将类别名与 0~339 一一对应起来\"\"\"\n",
    "        files = os.listdir(os.path.join(self.input_path, 'train_csv'))\n",
    "        return sorted([f2cat(f) for f in files], key=str.lower) # 类别名排序\n",
    "\n",
    "    def read_training_csv(self, category, nrows=None, usecols=None, drawing_transform=False, drop_unrecognized=False):\n",
    "        df = pd.read_csv(os.path.join(self.input_path, 'train_csv', category + '.csv'),\n",
    "                         nrows=nrows, parse_dates=['timestamp'], usecols=usecols)\n",
    "        \"\"\"\n",
    "        读取某一个类别的csv文件\n",
    "        drawing_transform: 是否将string型的数据转换成list\n",
    "        drop_unrecognized: 是否丢弃掉unrecognized的样本，推荐保持false\n",
    "        \"\"\"\n",
    "        # 实验发现丢弃掉unrecognized样本准确率会下降，所以保留\n",
    "        if drop_unrecognized:\n",
    "            print(\"Drop unrecognized samples!!!\")\n",
    "            df = df[df['recognized'] == True]\n",
    "        if drawing_transform:\n",
    "            df['drawing'] = df['drawing'].apply(ast.literal_eval)\n",
    "        return df"
   ]
  },
  {
   "cell_type": "code",
   "execution_count": 3,
   "metadata": {
    "_uuid": "0c8edb17435ea500d98aef554b38f551cdc17c93"
   },
   "outputs": [
    {
     "name": "stdout",
     "output_type": "stream",
     "text": [
      "340\n"
     ]
    }
   ],
   "source": [
    "start = dt.datetime.now()\n",
    "s = Simplified(INPUT_PATH)\n",
    "categories = s.list_all_categories()\n",
    "print(len(categories))"
   ]
  },
  {
   "cell_type": "code",
   "execution_count": 4,
   "metadata": {
    "_uuid": "fa103ea464f8b04cce685a3084cdca920c062797"
   },
   "outputs": [
    {
     "name": "stderr",
     "output_type": "stream",
     "text": [
      "340it [30:14,  5.34s/it]\n"
     ]
    }
   ],
   "source": [
    "for y, cat in tqdm(enumerate(categories)): # 共340个类别\n",
    "    df = s.read_training_csv(cat) # df就为当前类别的csv\n",
    "    df['y'] = y # y为 0~339 的数字，相当于对类别进行了LabelEncode\n",
    "    df['cv'] = (df.key_id // 10 ** 7) % NCSVS  # NCSVS = 100, cv决定了应该放在哪一个文件中\n",
    "    for k in range(NCSVS):\n",
    "        filename = INPUT_PATH + '/shuffled_csv/train_%d_%d.csv'%(k+1, NCSVS)\n",
    "        chunk = df[df.cv == k] # 得到df中cv=k的样本，应该存放在当前文件中\n",
    "        chunk = chunk.drop(['key_id'], axis=1)\n",
    "        if y == 0: # 新建文件\n",
    "            chunk.to_csv(filename, index=False)\n",
    "        else: # mode='a': 附加写 方式打开文件\n",
    "            chunk.to_csv(filename, mode='a', header=False, index=False) "
   ]
  },
  {
   "cell_type": "code",
   "execution_count": 5,
   "metadata": {
    "_uuid": "13ae737019609901a078648cacdae5f0f10b066f"
   },
   "outputs": [
    {
     "name": "stderr",
     "output_type": "stream",
     "text": [
      "100%|██████████| 100/100 [4:12:05<00:00, 151.25s/it] "
     ]
    },
    {
     "name": "stdout",
     "output_type": "stream",
     "text": [
      "(497740, 7)\n"
     ]
    },
    {
     "name": "stderr",
     "output_type": "stream",
     "text": [
      "\n"
     ]
    }
   ],
   "source": [
    "for k in tqdm(range(NCSVS)):\n",
    "    filename = INPUT_PATH + '/shuffled_csv/train_%d_%d.csv'%(k+1, NCSVS)\n",
    "    if os.path.exists(filename):\n",
    "        df = pd.read_csv(filename)\n",
    "        df['rnd'] = np.random.rand(len(df)) # 给每个样本一个随机数\n",
    "        df = df.sort_values(by='rnd').drop('rnd', axis=1)\n",
    "        df.to_csv(filename + '.gz', compression='gzip', index=False) # 以压缩的方式存储csv\n",
    "        os.remove(filename)\n",
    "print(df.shape)"
   ]
  },
  {
   "cell_type": "code",
   "execution_count": 6,
   "metadata": {
    "_uuid": "82113b6b5196ebf453ebebda51ac181a8b904af7"
   },
   "outputs": [
    {
     "name": "stdout",
     "output_type": "stream",
     "text": [
      "Latest run 2018-10-21 20:37:03.221214.\n",
      "Total time 16939s\n"
     ]
    }
   ],
   "source": [
    "end = dt.datetime.now()\n",
    "print('Latest run {}.\\nTotal time {}s'.format(end, (end - start).seconds))"
   ]
  }
 ],
 "metadata": {
  "kernelspec": {
   "display_name": "Python [default]",
   "language": "python",
   "name": "python3"
  },
  "language_info": {
   "codemirror_mode": {
    "name": "ipython",
    "version": 3
   },
   "file_extension": ".py",
   "mimetype": "text/x-python",
   "name": "python",
   "nbconvert_exporter": "python",
   "pygments_lexer": "ipython3",
   "version": "3.6.4"
  }
 },
 "nbformat": 4,
 "nbformat_minor": 1
}
